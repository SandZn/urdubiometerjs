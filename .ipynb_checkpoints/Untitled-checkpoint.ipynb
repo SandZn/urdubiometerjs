{
 "cells": [
  {
   "cell_type": "code",
   "execution_count": 2,
   "metadata": {},
   "outputs": [],
   "source": [
    "import urdubiometer\n",
    "import json"
   ]
  },
  {
   "cell_type": "code",
   "execution_count": 3,
   "metadata": {},
   "outputs": [
    {
     "name": "stdout",
     "output_type": "stream",
     "text": [
      "'{\"_graph\": {\"edge\": {\"0\": {\"1\": {\"token\": \"a\", \"cost\": -403}, \"11\": {\"token\": \"b\", \"cost\": -101}, \"13\": {\"token\": \"c\", \"cost\": -101}, \"15\": {\"token\": \" \", \"cost\": -101}}, \"1\": {\"2\": {\"cost\": -403, \"constraints\": {\"prev_classes\": [\"class_c\"], \"prev_tokens\": [\"b\", \"b\"]}}, \"3\": {\"cost\": -303, \"constraints\": {\"next_tokens\": [\"a\", \"b\"]}}, \"4\": {\"cost\": -302, \"constraints\": {\"prev_classes\": [\"class_c\"], \"prev_tokens\": [\"b\"]}}, \"5\": {\"cost\": -302, \"constraints\": {\"next_tokens\": [\"c\"], \"next_classes\": [\"class_b\"]}}, \"6\": {\"cost\": -202, \"constraints\": {\"next_tokens\": [\"a\"]}}, \"7\": {\"cost\": -202, \"constraints\": {\"prev_tokens\": [\"a\"]}}, \"8\": {\"cost\": -201, \"constraints\": {\"prev_classes\": [\"class_c\"]}}, \"9\": {\"cost\": -201, \"constraints\": {\"next_classes\": [\"class_c\"]}}, \"10\": {\"cost\": -101}}, \"11\": {\"12\": {\"cost\": -101}}, \"13\": {\"14\": {\"cost\": -101}}, \"15\": {\"16\": {\"cost\": -101}}}, \"node\": {\"0\": {\"type\": \"Start\", \"token_children\": {\"a\": 1, \"b\": 11, \"c\": 13, \" \": 15}, \"ordered_children\": {\"a\": [1], \"b\": [11], \"c\": [13], \" \": [15]}}, \"1\": {\"type\": \"token\", \"token\": \"a\", \"rule_children\": [2, 3, 4, 5, 6, 7, 8, 9, 10], \"ordered_children\": {\"__rules__\": [2, 3, 4, 5, 6, 7, 8, 9, 10]}}, \"2\": {\"type\": \"rule\", \"rule_key\": 0, \"rule\": [\"A(AFTER_BB_AND_CLASS_C)\", [\"class_c\"], [\"b\", \"b\"], [\"a\"], null, null, -403], \"accepting\": true, \"ordered_children\": {}}, \"3\": {\"type\": \"rule\", \"rule_key\": 1, \"rule\": [\"A(BEFORE_AB)\", null, null, [\"a\"], [\"a\", \"b\"], null, -303], \"accepting\": true, \"ordered_children\": {}}, \"4\": {\"type\": \"rule\", \"rule_key\": 2, \"rule\": [\"A(AFTER_B_AND_CLASS_C)\", [\"class_c\"], [\"b\"], [\"a\"], null, null, -302], \"accepting\": true, \"ordered_children\": {}}, \"5\": {\"type\": \"rule\", \"rule_key\": 3, \"rule\": [\"A(BEFORE_C_AND_CLASS_B)\", null, null, [\"a\"], [\"c\"], [\"class_b\"], -302], \"accepting\": true, \"ordered_children\": {}}, \"6\": {\"type\": \"rule\", \"rule_key\": 4, \"rule\": [\"A(BEFORE_A)\", null, null, [\"a\"], [\"a\"], null, -202], \"accepting\": true, \"ordered_children\": {}}, \"7\": {\"type\": \"rule\", \"rule_key\": 5, \"rule\": [\"A(AFTER_A)\", null, [\"a\"], [\"a\"], null, null, -202], \"accepting\": true, \"ordered_children\": {}}, \"8\": {\"type\": \"rule\", \"rule_key\": 6, \"rule\": [\"A(AFTER_CLASS_C)\", [\"class_c\"], null, [\"a\"], null, null, -201], \"accepting\": true, \"ordered_children\": {}}, \"9\": {\"type\": \"rule\", \"rule_key\": 7, \"rule\": [\"A(BEFORE_CLASS_C)\", null, null, [\"a\"], null, [\"class_c\"], -201], \"accepting\": true, \"ordered_children\": {}}, \"10\": {\"type\": \"rule\", \"rule_key\": 8, \"rule\": [\"A\", null, null, [\"a\"], null, null, -101], \"accepting\": true, \"ordered_children\": {}}, \"11\": {\"type\": \"token\", \"token\": \"b\", \"rule_children\": [12], \"ordered_children\": {\"__rules__\": [12]}}, \"12\": {\"type\": \"rule\", \"rule_key\": 9, \"rule\": [\"B\", null, null, [\"b\"], null, null, -101], \"accepting\": true, \"ordered_children\": {}}, \"13\": {\"type\": \"token\", \"token\": \"c\", \"rule_children\": [14], \"ordered_children\": {\"__rules__\": [14]}}, \"14\": {\"type\": \"rule\", \"rule_key\": 10, \"rule\": [\"C\", null, null, [\"c\"], null, null, -101], \"accepting\": true, \"ordered_children\": {}}, \"15\": {\"type\": \"token\", \"token\": \" \", \"rule_children\": [16], \"ordered_children\": {\"__rules__\": [16]}}, \"16\": {\"type\": \"rule\", \"rule_key\": 11, \"rule\": [\" \", null, null, [\" \"], null, null, -101], \"accepting\": true, \"ordered_children\": {}}}, \"edge_list\": [[0, 1], [1, 2], [1, 3], [1, 4], [1, 5], [1, 6], [1, 7], [1, 8], [1, 9], [1, 10], [0, 11], [11, 12], [0, 13], [13, 14], [0, 15], [15, 16]]}, \"_tokens\": {\"a\": [\"class_a\"], \"b\": [\"class_b\"], \"c\": [\"class_c\"], \" \": [\"wb\"]}, \"_rules\": [[\"A(AFTER_BB_AND_CLASS_C)\", [\"class_c\"], [\"b\", \"b\"], [\"a\"], null, null, -403], [\"A(BEFORE_AB)\", null, null, [\"a\"], [\"a\", \"b\"], null, -303], [\"A(AFTER_B_AND_CLASS_C)\", [\"class_c\"], [\"b\"], [\"a\"], null, null, -302], [\"A(BEFORE_C_AND_CLASS_B)\", null, null, [\"a\"], [\"c\"], [\"class_b\"], -302], [\"A(BEFORE_A)\", null, null, [\"a\"], [\"a\"], null, -202], [\"A(AFTER_A)\", null, [\"a\"], [\"a\"], null, null, -202], [\"A(AFTER_CLASS_C)\", [\"class_c\"], null, [\"a\"], null, null, -201], [\"A(BEFORE_CLASS_C)\", null, null, [\"a\"], null, [\"class_c\"], -201], [\"A\", null, null, [\"a\"], null, null, -101], [\"B\", null, null, [\"b\"], null, null, -101], [\"C\", null, null, [\"c\"], null, null, -101], [\" \", null, null, [\" \"], null, null, -101]], \"_onmatch_rules\": [[[\"class_a\", \"class_b\"], [\"class_a\", \"class_b\"], \"!\"], [[\"class_a\"], [\"class_b\"], \",\"]], \"_onmatch_rules_lookup\": {\"a\": {\"b\": [0]}, \"b\": {\"a\": [1]}}, \"_whitespace\": [\" \", \"wb\", true], \"_tokenizer_pattern\": \"(a|b|c|\\\\ )\"}'\n"
     ]
    }
   ],
   "source": [
    "gp = urdubiometer.GraphParser.from_yaml(\n",
    "'''\n",
    "  tokens:\n",
    "    a: [class_a]\n",
    "    b: [class_b]\n",
    "    c: [class_c]\n",
    "    ' ': [wb]\n",
    "  rules:\n",
    "    a: A\n",
    "    b: B\n",
    "    <class_c> a: A(AFTER_CLASS_C)\n",
    "    (<class_c> b) a: A(AFTER_B_AND_CLASS_C)\n",
    "    (<class_c> b b) a: A(AFTER_BB_AND_CLASS_C)\n",
    "    a <class_c>: A(BEFORE_CLASS_C)\n",
    "    a (c <class_b>): A(BEFORE_C_AND_CLASS_B)\n",
    "    a (a): A(BEFORE_A)\n",
    "    a (a b): A(BEFORE_AB)\n",
    "    (a) a: A(AFTER_A)\n",
    "    c: C\n",
    "    ' ': ' '\n",
    "  onmatch_rules:\n",
    "    -\n",
    "      <class_a> <class_b> + <class_a> <class_b>: '!'\n",
    "    -\n",
    "      <class_a> + <class_b>: ','\n",
    "  whitespace:\n",
    "    default: ' '\n",
    "    consolidate: True\n",
    "    token_class: wb\n",
    "''')\n",
    "_ = gp.serialize()\n",
    "print(\"'\"+json.dumps(_)+\"'\")"
   ]
  },
  {
   "cell_type": "code",
   "execution_count": 4,
   "metadata": {},
   "outputs": [
    {
     "ename": "ValueError",
     "evalue": "Unrecognizable input at pos 3: aNa",
     "output_type": "error",
     "traceback": [
      "\u001b[0;31m---------------------------------------------------------------------------\u001b[0m",
      "\u001b[0;31mValueError\u001b[0m                                Traceback (most recent call last)",
      "\u001b[0;32m<ipython-input-4-69b84c9afe2b>\u001b[0m in \u001b[0;36m<module>\u001b[0;34m()\u001b[0m\n\u001b[0;32m----> 1\u001b[0;31m \u001b[0mgp\u001b[0m\u001b[0;34m.\u001b[0m\u001b[0mparse\u001b[0m\u001b[0;34m(\u001b[0m\u001b[0;34m\"aNa\"\u001b[0m\u001b[0;34m)\u001b[0m\u001b[0;34m\u001b[0m\u001b[0m\n\u001b[0m",
      "\u001b[0;32m~/MyWorkspace/urdubiometer/urdubiometer/graphparser/graphparser.py\u001b[0m in \u001b[0;36mparse\u001b[0;34m(self, input)\u001b[0m\n\u001b[1;32m    310\u001b[0m \u001b[0;34m\u001b[0m\u001b[0m\n\u001b[1;32m    311\u001b[0m         \"\"\"\n\u001b[0;32m--> 312\u001b[0;31m         \u001b[0mtokens\u001b[0m \u001b[0;34m=\u001b[0m \u001b[0mself\u001b[0m\u001b[0;34m.\u001b[0m\u001b[0mtokenize\u001b[0m\u001b[0;34m(\u001b[0m\u001b[0minput\u001b[0m\u001b[0;34m)\u001b[0m   \u001b[0;31m# adds initial+final whitespace\u001b[0m\u001b[0;34m\u001b[0m\u001b[0m\n\u001b[0m\u001b[1;32m    313\u001b[0m         \u001b[0;31m# self._input_tokens = tokens     # <--- tokens are saved here\u001b[0m\u001b[0;34m\u001b[0m\u001b[0;34m\u001b[0m\u001b[0m\n\u001b[1;32m    314\u001b[0m         \u001b[0mself\u001b[0m\u001b[0;34m.\u001b[0m\u001b[0m_rule_keys\u001b[0m \u001b[0;34m=\u001b[0m \u001b[0;34m[\u001b[0m\u001b[0;34m]\u001b[0m\u001b[0;34m\u001b[0m\u001b[0m\n",
      "\u001b[0;32m~/MyWorkspace/urdubiometer/urdubiometer/graphparser/graphparser.py\u001b[0m in \u001b[0;36mtokenize\u001b[0;34m(self, input)\u001b[0m\n\u001b[1;32m    430\u001b[0m         \u001b[0;32melif\u001b[0m \u001b[0mmatch\u001b[0m\u001b[0;34m.\u001b[0m\u001b[0mend\u001b[0m\u001b[0;34m(\u001b[0m\u001b[0;34m)\u001b[0m \u001b[0;34m!=\u001b[0m \u001b[0mlen\u001b[0m\u001b[0;34m(\u001b[0m\u001b[0minput\u001b[0m\u001b[0;34m)\u001b[0m\u001b[0;34m:\u001b[0m\u001b[0;34m\u001b[0m\u001b[0m\n\u001b[1;32m    431\u001b[0m             raise ValueError(\n\u001b[0;32m--> 432\u001b[0;31m                 \u001b[0;34m\"Unrecognizable input at pos %s: %s\"\u001b[0m \u001b[0;34m%\u001b[0m \u001b[0;34m(\u001b[0m\u001b[0mmatch\u001b[0m\u001b[0;34m.\u001b[0m\u001b[0mendpos\u001b[0m\u001b[0;34m,\u001b[0m \u001b[0minput\u001b[0m\u001b[0;34m)\u001b[0m\u001b[0;34m\u001b[0m\u001b[0m\n\u001b[0m\u001b[1;32m    433\u001b[0m             )\n\u001b[1;32m    434\u001b[0m         \u001b[0;32melse\u001b[0m\u001b[0;34m:\u001b[0m\u001b[0;34m\u001b[0m\u001b[0m\n",
      "\u001b[0;31mValueError\u001b[0m: Unrecognizable input at pos 3: aNa"
     ]
    }
   ],
   "source": [
    "gp.parse(\"aNa\")"
   ]
  },
  {
   "cell_type": "code",
   "execution_count": 27,
   "metadata": {},
   "outputs": [
    {
     "data": {
      "text/plain": [
       "{'type': 'token',\n",
       " 'token': 'a',\n",
       " 'rule_children': [2, 3, 4, 5, 6, 7],\n",
       " 'ordered_children': {'__rules__': [2, 3, 4, 5, 6, 7]}}"
      ]
     },
     "execution_count": 27,
     "metadata": {},
     "output_type": "execute_result"
    }
   ],
   "source": [
    "gp._graph.node[1]"
   ]
  },
  {
   "cell_type": "code",
   "execution_count": 28,
   "metadata": {},
   "outputs": [
    {
     "data": {
      "text/plain": [
       "[{'type': 'rule',\n",
       "  'rule_key': 0,\n",
       "  'rule': ParserRule(production='A(AFTER_BB_AND_CLASS_C)', prev_classes=['class_c'], prev_tokens=['b', 'b'], tokens=['a'], next_tokens=None, next_classes=None, cost=-403),\n",
       "  'accepting': True,\n",
       "  'ordered_children': {}},\n",
       " {'type': 'rule',\n",
       "  'rule_key': 1,\n",
       "  'rule': ParserRule(production='A(AFTER_B_AND_CLASS_C)', prev_classes=['class_c'], prev_tokens=['b'], tokens=['a'], next_tokens=None, next_classes=None, cost=-302),\n",
       "  'accepting': True,\n",
       "  'ordered_children': {}},\n",
       " {'type': 'rule',\n",
       "  'rule_key': 2,\n",
       "  'rule': ParserRule(production='A(BEFORE_C_AND_CLASS_B)', prev_classes=None, prev_tokens=None, tokens=['a'], next_tokens=['c'], next_classes=['class_b'], cost=-302),\n",
       "  'accepting': True,\n",
       "  'ordered_children': {}},\n",
       " {'type': 'rule',\n",
       "  'rule_key': 3,\n",
       "  'rule': ParserRule(production='A(AFTER_CLASS_C)', prev_classes=['class_c'], prev_tokens=None, tokens=['a'], next_tokens=None, next_classes=None, cost=-201),\n",
       "  'accepting': True,\n",
       "  'ordered_children': {}},\n",
       " {'type': 'rule',\n",
       "  'rule_key': 4,\n",
       "  'rule': ParserRule(production='A(BEFORE_CLASS_C)', prev_classes=None, prev_tokens=None, tokens=['a'], next_tokens=None, next_classes=['class_c'], cost=-201),\n",
       "  'accepting': True,\n",
       "  'ordered_children': {}},\n",
       " {'type': 'rule',\n",
       "  'rule_key': 5,\n",
       "  'rule': ParserRule(production='A', prev_classes=None, prev_tokens=None, tokens=['a'], next_tokens=None, next_classes=None, cost=-101),\n",
       "  'accepting': True,\n",
       "  'ordered_children': {}}]"
      ]
     },
     "execution_count": 28,
     "metadata": {},
     "output_type": "execute_result"
    }
   ],
   "source": [
    "[gp._graph.node[_] for _ in gp._graph.node[1]['rule_children']]"
   ]
  },
  {
   "cell_type": "code",
   "execution_count": 31,
   "metadata": {},
   "outputs": [
    {
     "data": {
      "text/plain": [
       "{0: {'type': 'Start',\n",
       "  'token_children': {'a': 1, 'b': 11, 'c': 13, ' ': 15},\n",
       "  'ordered_children': {'a': [1], 'b': [11], 'c': [13], ' ': [15]}},\n",
       " 1: {'type': 'token',\n",
       "  'token': 'a',\n",
       "  'rule_children': [2, 3, 4, 5, 6, 7, 8, 9, 10],\n",
       "  'ordered_children': {'__rules__': [2, 3, 4, 5, 6, 7, 8, 9, 10]}},\n",
       " 2: {'type': 'rule',\n",
       "  'rule_key': 0,\n",
       "  'rule': ParserRule(production='A(AFTER_BB_AND_CLASS_C)', prev_classes=['class_c'], prev_tokens=['b', 'b'], tokens=['a'], next_tokens=None, next_classes=None, cost=-403),\n",
       "  'accepting': True,\n",
       "  'ordered_children': {}},\n",
       " 3: {'type': 'rule',\n",
       "  'rule_key': 1,\n",
       "  'rule': ParserRule(production='A(BEFORE_AB)', prev_classes=None, prev_tokens=None, tokens=['a'], next_tokens=['a', 'b'], next_classes=None, cost=-303),\n",
       "  'accepting': True,\n",
       "  'ordered_children': {}},\n",
       " 4: {'type': 'rule',\n",
       "  'rule_key': 2,\n",
       "  'rule': ParserRule(production='A(AFTER_B_AND_CLASS_C)', prev_classes=['class_c'], prev_tokens=['b'], tokens=['a'], next_tokens=None, next_classes=None, cost=-302),\n",
       "  'accepting': True,\n",
       "  'ordered_children': {}},\n",
       " 5: {'type': 'rule',\n",
       "  'rule_key': 3,\n",
       "  'rule': ParserRule(production='A(BEFORE_C_AND_CLASS_B)', prev_classes=None, prev_tokens=None, tokens=['a'], next_tokens=['c'], next_classes=['class_b'], cost=-302),\n",
       "  'accepting': True,\n",
       "  'ordered_children': {}},\n",
       " 6: {'type': 'rule',\n",
       "  'rule_key': 4,\n",
       "  'rule': ParserRule(production='A(BEFORE_A)', prev_classes=None, prev_tokens=None, tokens=['a'], next_tokens=['a'], next_classes=None, cost=-202),\n",
       "  'accepting': True,\n",
       "  'ordered_children': {}},\n",
       " 7: {'type': 'rule',\n",
       "  'rule_key': 5,\n",
       "  'rule': ParserRule(production='A(AFTER_A)', prev_classes=None, prev_tokens=['a'], tokens=['a'], next_tokens=None, next_classes=None, cost=-202),\n",
       "  'accepting': True,\n",
       "  'ordered_children': {}},\n",
       " 8: {'type': 'rule',\n",
       "  'rule_key': 6,\n",
       "  'rule': ParserRule(production='A(AFTER_CLASS_C)', prev_classes=['class_c'], prev_tokens=None, tokens=['a'], next_tokens=None, next_classes=None, cost=-201),\n",
       "  'accepting': True,\n",
       "  'ordered_children': {}},\n",
       " 9: {'type': 'rule',\n",
       "  'rule_key': 7,\n",
       "  'rule': ParserRule(production='A(BEFORE_CLASS_C)', prev_classes=None, prev_tokens=None, tokens=['a'], next_tokens=None, next_classes=['class_c'], cost=-201),\n",
       "  'accepting': True,\n",
       "  'ordered_children': {}},\n",
       " 10: {'type': 'rule',\n",
       "  'rule_key': 8,\n",
       "  'rule': ParserRule(production='A', prev_classes=None, prev_tokens=None, tokens=['a'], next_tokens=None, next_classes=None, cost=-101),\n",
       "  'accepting': True,\n",
       "  'ordered_children': {}},\n",
       " 11: {'type': 'token',\n",
       "  'token': 'b',\n",
       "  'rule_children': [12],\n",
       "  'ordered_children': {'__rules__': [12]}},\n",
       " 12: {'type': 'rule',\n",
       "  'rule_key': 9,\n",
       "  'rule': ParserRule(production='B', prev_classes=None, prev_tokens=None, tokens=['b'], next_tokens=None, next_classes=None, cost=-101),\n",
       "  'accepting': True,\n",
       "  'ordered_children': {}},\n",
       " 13: {'type': 'token',\n",
       "  'token': 'c',\n",
       "  'rule_children': [14],\n",
       "  'ordered_children': {'__rules__': [14]}},\n",
       " 14: {'type': 'rule',\n",
       "  'rule_key': 10,\n",
       "  'rule': ParserRule(production='C', prev_classes=None, prev_tokens=None, tokens=['c'], next_tokens=None, next_classes=None, cost=-101),\n",
       "  'accepting': True,\n",
       "  'ordered_children': {}},\n",
       " 15: {'type': 'token',\n",
       "  'token': ' ',\n",
       "  'rule_children': [16],\n",
       "  'ordered_children': {'__rules__': [16]}},\n",
       " 16: {'type': 'rule',\n",
       "  'rule_key': 11,\n",
       "  'rule': ParserRule(production=' ', prev_classes=None, prev_tokens=None, tokens=[' '], next_tokens=None, next_classes=None, cost=-101),\n",
       "  'accepting': True,\n",
       "  'ordered_children': {}}}"
      ]
     },
     "execution_count": 31,
     "metadata": {},
     "output_type": "execute_result"
    }
   ],
   "source": [
    "gp._graph.node"
   ]
  },
  {
   "cell_type": "code",
   "execution_count": null,
   "metadata": {},
   "outputs": [],
   "source": []
  }
 ],
 "metadata": {
  "kernelspec": {
   "display_name": "Python 3",
   "language": "python",
   "name": "python3"
  },
  "language_info": {
   "codemirror_mode": {
    "name": "ipython",
    "version": 3
   },
   "file_extension": ".py",
   "mimetype": "text/x-python",
   "name": "python",
   "nbconvert_exporter": "python",
   "pygments_lexer": "ipython3",
   "version": "3.6.4"
  }
 },
 "nbformat": 4,
 "nbformat_minor": 2
}
